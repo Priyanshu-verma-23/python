{
 "cells": [
  {
   "cell_type": "code",
   "execution_count": 2,
   "metadata": {},
   "outputs": [
    {
     "name": "stdout",
     "output_type": "stream",
     "text": [
      "260\n"
     ]
    }
   ],
   "source": [
    "# 1. Write a Python program to sum all the items in a list.\n",
    "\n",
    "list = [1, 2, 3, 4, 100, 150]\n",
    "listsum = sum(list);\n",
    "print(listsum)\n"
   ]
  },
  {
   "cell_type": "code",
   "execution_count": 6,
   "metadata": {},
   "outputs": [
    {
     "name": "stdout",
     "output_type": "stream",
     "text": [
      "260\n"
     ]
    }
   ],
   "source": [
    "# 1. Write a Python program to sum all the items in a list.\n",
    "\n",
    "list = [1, 2, 3, 4, 100, 150];\n",
    "sum = 0;\n",
    "b = len(list)\n",
    "\n",
    "for x in range(0, b):\n",
    "    sum = sum + list[x];\n",
    "\n",
    "print(sum)\n"
   ]
  },
  {
   "cell_type": "code",
   "execution_count": 7,
   "metadata": {},
   "outputs": [
    {
     "name": "stdout",
     "output_type": "stream",
     "text": [
      "150\n"
     ]
    }
   ],
   "source": [
    "# 2. Write a Python program to get the largest number from a list.\n",
    "list = [1, 2, 3, 4, 100, 150];\n",
    "b = max(list);\n",
    "\n",
    "print(b);\n",
    "\n"
   ]
  },
  {
   "cell_type": "code",
   "execution_count": 3,
   "metadata": {},
   "outputs": [
    {
     "name": "stdout",
     "output_type": "stream",
     "text": [
      "greatest number =  150\n"
     ]
    }
   ],
   "source": [
    "# 2. Write a Python program to get the largest number from a list.\n",
    "list = [1, 2, 3, 4, 100, 150];\n",
    "lenlist = len(list);\n",
    "\n",
    "for x in range(0, lenlist):\n",
    "    if(m < list[x]):\n",
    "        m = list[x];\n",
    "\n",
    "print('greatest number = ', m);"
   ]
  },
  {
   "cell_type": "code",
   "execution_count": 8,
   "metadata": {},
   "outputs": [
    {
     "name": "stdout",
     "output_type": "stream",
     "text": [
      "1\n"
     ]
    }
   ],
   "source": [
    "# 3. Write a Python program to get the smallest number from a list.\n",
    "list = [1, 2, 3, 4, 100, 150];\n",
    "b = min(list);\n",
    "\n",
    "print(b)\n",
    "\n",
    "\n",
    "\n"
   ]
  },
  {
   "cell_type": "code",
   "execution_count": 2,
   "metadata": {},
   "outputs": [
    {
     "name": "stdout",
     "output_type": "stream",
     "text": [
      "smallest number in list =  1\n"
     ]
    }
   ],
   "source": [
    "# 3. Write a Python program to get the smallest number from a list.\n",
    "list = [1, 2, 3, 4, 100, 150];\n",
    "m = list[0];\n",
    "lenlist = len(list);\n",
    "\n",
    "for x in range(0, lenlist):\n",
    "    if(m > list[x]):\n",
    "        m = list[x];\n",
    "\n",
    "\n",
    "print('smallest number in list = ', m);\n"
   ]
  },
  {
   "cell_type": "code",
   "execution_count": 21,
   "metadata": {},
   "outputs": [
    {
     "name": "stdout",
     "output_type": "stream",
     "text": [
      "[3, 4, 100, 1, 2]\n"
     ]
    }
   ],
   "source": [
    "# 4.Write a Python program to remove duplicates from a list.\n",
    "list = [1, 2, 3, 4, 100, 1, 2];\n",
    "b = len(list) - 1;\n",
    "for x in range(0, b):\n",
    "    cou = list.count(list[x]);\n",
    "    if(cou > 1):\n",
    "        for y in range(0, cou-1):\n",
    "            list.remove(list[x]);\n",
    "\n",
    "    else:\n",
    "        cou = 1;\n",
    "\n",
    "\n",
    "print(list)\n",
    "\n",
    "\n"
   ]
  },
  {
   "cell_type": "code",
   "execution_count": 25,
   "metadata": {},
   "outputs": [
    {
     "name": "stdout",
     "output_type": "stream",
     "text": [
      "[1, 2, 3, 100, 4]\n"
     ]
    }
   ],
   "source": [
    "# 4.Write a Python program to remove duplicates from a list.\n",
    "list = [1, 2, 3, 4, 100, 1, 2];\n",
    "\n",
    "finallist = []\n",
    "newlist = set(list);\n",
    "finallist.extend(newlist);\n",
    "\n",
    "print(finallist)"
   ]
  },
  {
   "cell_type": "code",
   "execution_count": 27,
   "metadata": {},
   "outputs": [
    {
     "name": "stdout",
     "output_type": "stream",
     "text": [
      "list is empty\n"
     ]
    }
   ],
   "source": [
    "# 5. Write a Python program to check if a list is empty or not.\n",
    "\n",
    "list = [];\n",
    "lenlist = len(list);\n",
    "\n",
    "if(lenlist == 0):\n",
    "    print(\"list is empty\");\n",
    "\n",
    "else:\n",
    "    print(\"list is not empty\");\n"
   ]
  },
  {
   "cell_type": "code",
   "execution_count": 17,
   "metadata": {},
   "outputs": [
    {
     "name": "stdout",
     "output_type": "stream",
     "text": [
      "True\n"
     ]
    }
   ],
   "source": [
    "# 6. Write a Python program to check if each number is prime in a given \n",
    "# list of numbers. Return True if all numbers are prime otherwise False.\n",
    "# Sample Data:\n",
    "# ([0, 3, 4, 7, 9]) -> False\n",
    "# ([3, 5, 7, 13]) -> True\n",
    "# ([1, 5, 3]) -> False\n",
    "\n",
    "\n",
    "list = [3, 5, 7, 13];\n",
    "lenlist = len(list);\n",
    "factor = 0;\n",
    "\n",
    "for x in range(0, lenlist):\n",
    "    num = list[x];\n",
    "    if(num == 1):\n",
    "        print(\"list contain digit 1 \");\n",
    "\n",
    "    else:\n",
    "        for y in range(1, num+1):\n",
    "            if(num % y == 0):\n",
    "                factor = factor + 1;\n",
    "\n",
    "\n",
    "\n",
    "if(factor == 2 * lenlist):\n",
    "    print(\"True\");\n",
    "\n",
    "else:\n",
    "    print('false');\n"
   ]
  },
  {
   "cell_type": "code",
   "execution_count": 24,
   "metadata": {},
   "outputs": [
    {
     "name": "stdout",
     "output_type": "stream",
     "text": [
      "['Green', 'White', 'Black']\n"
     ]
    }
   ],
   "source": [
    "# 7. Write a Python program to print a specified list after removing the \n",
    "# 0th, 4th and 5th elements.\n",
    "# Sample List : ['Red', 'Green', 'White', 'Black', 'Pink', 'Yellow']\n",
    "# Expected Output : ['Green', 'White', 'Black']\n",
    "\n",
    "list = ['Red', 'Green', 'White', 'Black', 'Pink', 'Yellow']\n",
    "list.pop(0);\n",
    "list.pop(3);\n",
    "list.pop(3);\n",
    "\n",
    "print(list);\n",
    "\n",
    "\n"
   ]
  },
  {
   "cell_type": "code",
   "execution_count": 32,
   "metadata": {},
   "outputs": [
    {
     "name": "stdout",
     "output_type": "stream",
     "text": [
      "4\n"
     ]
    }
   ],
   "source": [
    "# 8.Write a Python program to find the second largest number in a list.\n",
    "\n",
    "list = [1, 2, 3, 4, 5]\n",
    "lenlist = len(list);\n",
    "m = list[0]\n",
    "for x in range(0 , lenlist):\n",
    "    if(m < list[x]):\n",
    "        m = list[x];\n",
    "\n",
    "list.remove(m);\n",
    "\n",
    "ms = list[0]\n",
    "for y in range(0 , lenlist-1):\n",
    "    if(ms < list[y]):\n",
    "        ms = list[y];\n",
    "\n",
    "print(ms)\n"
   ]
  },
  {
   "cell_type": "code",
   "execution_count": 39,
   "metadata": {},
   "outputs": [
    {
     "name": "stdout",
     "output_type": "stream",
     "text": [
      "[1, 2, 3, 4]\n"
     ]
    }
   ],
   "source": [
    "# 9. Write a Python program to get unique values from a list.\n",
    "\n",
    "list = [1, 2, 3, 4, 1, 2, 1];\n",
    "newlist = [];\n",
    "b = set(list)\n",
    "\n",
    "newlist.extend(b)\n",
    "print(newlist)\n",
    "\n"
   ]
  },
  {
   "cell_type": "code",
   "execution_count": 45,
   "metadata": {},
   "outputs": [
    {
     "name": "stdout",
     "output_type": "stream",
     "text": [
      "number =  1 repeat =  3\n",
      "number =  2 repeat =  2\n",
      "number =  3 repeat =  1\n",
      "number =  4 repeat =  1\n",
      "number =  5 repeat =  5\n"
     ]
    }
   ],
   "source": [
    "# 10. Write a Python program to get the frequency of elements in a list\n",
    "list = [1, 2, 3, 4, 1, 2, 1, 5, 5, 5, 5, 5];\n",
    "newlist = []\n",
    "b = set(list);\n",
    "newlist.extend(b);\n",
    "lenlist = len(newlist);\n",
    "\n",
    "for x in range(0, lenlist):\n",
    "    countnum = list.count(newlist[x]);\n",
    "    print('number = ', newlist[x] , 'repeat = ',countnum)\n"
   ]
  },
  {
   "cell_type": "code",
   "execution_count": 47,
   "metadata": {},
   "outputs": [
    {
     "name": "stdout",
     "output_type": "stream",
     "text": [
      "1133508090\n"
     ]
    }
   ],
   "source": [
    "# 11. Write a Python program to convert a list of multiple integers into a \n",
    "# single integer.\n",
    "# Sample list: [11, 33, 50]\n",
    "# Expected Output: 113350\n",
    "\n",
    "list = [11, 33, 50, 80, 90];\n",
    "sum = '';\n",
    "lenlist = len(list);\n",
    "\n",
    "for x in range(0, lenlist):\n",
    "    sum = sum + str(list[x]);\n",
    "\n",
    "print(sum)\n",
    "\n"
   ]
  },
  {
   "cell_type": "code",
   "execution_count": 53,
   "metadata": {},
   "outputs": [
    {
     "name": "stdout",
     "output_type": "stream",
     "text": [
      "['emp1', 'emp2', 'emp3', 'emp4']\n"
     ]
    }
   ],
   "source": [
    "# 13. Write a Python program to insert a given string at the beginning of \n",
    "# all items in a list.\n",
    "# Sample list : [1,2,3,4], string : emp\n",
    "# Expected output : ['emp1', 'emp2', 'emp3', 'emp4']\n",
    "\n",
    "list = [1, 2, 3, 4];\n",
    "stri = 'emp';\n",
    "\n",
    "\n",
    "lenlist = len(list)\n",
    "\n",
    "for x in range(0, lenlist):\n",
    "     list[x] = stri + str(list[x])\n",
    "\n",
    "print(list)"
   ]
  },
  {
   "cell_type": "code",
   "execution_count": null,
   "metadata": {},
   "outputs": [],
   "source": [
    "# 15. . Write a Python program to find the list in a list of lists whose \n",
    "# sum of elements is the highest.\n",
    "# Sample lists: [1,2,3], [4,5,6], [10,11,12], [7,8,9]\n",
    "# Expected Output: [10, 11, 12]"
   ]
  }
 ],
 "metadata": {
  "kernelspec": {
   "display_name": "env",
   "language": "python",
   "name": "python3"
  },
  "language_info": {
   "codemirror_mode": {
    "name": "ipython",
    "version": 3
   },
   "file_extension": ".py",
   "mimetype": "text/x-python",
   "name": "python",
   "nbconvert_exporter": "python",
   "pygments_lexer": "ipython3",
   "version": "3.12.1"
  }
 },
 "nbformat": 4,
 "nbformat_minor": 2
}
